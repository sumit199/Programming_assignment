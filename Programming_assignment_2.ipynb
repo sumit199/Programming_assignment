{
 "cells": [
  {
   "cell_type": "markdown",
   "metadata": {},
   "source": [
    "#### 1.\tWrite a Python program to convert kilometers to miles?"
   ]
  },
  {
   "cell_type": "code",
   "execution_count": 5,
   "metadata": {},
   "outputs": [],
   "source": [
    "def kilo_to_mile(kilometer):\n",
    "    mile = kilometer * 0.62137\n",
    "    return mile"
   ]
  },
  {
   "cell_type": "code",
   "execution_count": 6,
   "metadata": {},
   "outputs": [
    {
     "name": "stdout",
     "output_type": "stream",
     "text": [
      "Eneter distance in kilometer to convert in miles 23.6\n",
      "distance in miles is 14.664332\n"
     ]
    }
   ],
   "source": [
    "kilom = float(input('Eneter distance in kilometer to convert in miles '))\n",
    "print('distance in miles is {}'.format(kilo_to_mile(kilom)))"
   ]
  },
  {
   "cell_type": "markdown",
   "metadata": {},
   "source": [
    "#### 2.\tWrite a Python program to convert Celsius to Fahrenheit?"
   ]
  },
  {
   "cell_type": "code",
   "execution_count": 7,
   "metadata": {},
   "outputs": [],
   "source": [
    "def cel_to_fahr(celsius):\n",
    "    fahrenheit = celsius * 1.8 + 32\n",
    "    return fahrenheit"
   ]
  },
  {
   "cell_type": "code",
   "execution_count": 11,
   "metadata": {},
   "outputs": [
    {
     "name": "stdout",
     "output_type": "stream",
     "text": [
      "Eneter temperature in celsius to convert into fahrenheit 37\n",
      "Temperature in fahrenheit is 98.60000000000001\n"
     ]
    }
   ],
   "source": [
    "cels = float(input('Eneter temperature in celsius to convert into fahrenheit '))\n",
    "print('Temperature in fahrenheit is {}'.format(cel_to_fahr(cels)))"
   ]
  },
  {
   "cell_type": "markdown",
   "metadata": {},
   "source": [
    "#### 3.\tWrite a Python program to display calendar?"
   ]
  },
  {
   "cell_type": "code",
   "execution_count": 12,
   "metadata": {},
   "outputs": [],
   "source": [
    "import calendar\n",
    "\n",
    "def display_calendar(month,year):\n",
    "    print(calendar.month(yy, mm))"
   ]
  },
  {
   "cell_type": "code",
   "execution_count": 16,
   "metadata": {},
   "outputs": [
    {
     "name": "stdout",
     "output_type": "stream",
     "text": [
      "Enter month in numbers 9\n",
      "Enter year 2001\n",
      "   September 2001\n",
      "Mo Tu We Th Fr Sa Su\n",
      "                1  2\n",
      " 3  4  5  6  7  8  9\n",
      "10 11 12 13 14 15 16\n",
      "17 18 19 20 21 22 23\n",
      "24 25 26 27 28 29 30\n",
      "\n"
     ]
    }
   ],
   "source": [
    "mm = int(input('Enter month in numbers '))\n",
    "yy = int(input('Enter year '))\n",
    "display_calendar(mm,yy)"
   ]
  },
  {
   "cell_type": "markdown",
   "metadata": {},
   "source": [
    "#### 4.\tWrite a Python program to solve quadratic equation?"
   ]
  },
  {
   "cell_type": "code",
   "execution_count": 19,
   "metadata": {},
   "outputs": [],
   "source": [
    "#ax**2 + bx + c = 0\n",
    "import cmath\n",
    "\n",
    "def quad_eq(a,b,c):\n",
    "    \n",
    "    # calculate the discriminant\n",
    "    d = (b**2) - (4*a*c)\n",
    "\n",
    "    # find two solutions\n",
    "    sol1 = (-b-cmath.sqrt(d))/(2*a)\n",
    "    sol2 = (-b+cmath.sqrt(d))/(2*a)\n",
    "\n",
    "    print('The solution are {0} and {1}'.format(sol1,sol2))"
   ]
  },
  {
   "cell_type": "code",
   "execution_count": 22,
   "metadata": {},
   "outputs": [
    {
     "name": "stdout",
     "output_type": "stream",
     "text": [
      "Enter a 2\n",
      "Enter b 1\n",
      "Enter c 3\n",
      "The solution are (-0.25-1.1989578808281798j) and (-0.25+1.1989578808281798j)\n"
     ]
    }
   ],
   "source": [
    "a=float(input('Enter a '))\n",
    "b=float(input('Enter b '))\n",
    "c=float(input('Enter c '))\n",
    "\n",
    "quad_eq(a,b,c)"
   ]
  },
  {
   "cell_type": "markdown",
   "metadata": {},
   "source": [
    "#### 5.\tWrite a Python program to swap two variables without temp variable?"
   ]
  },
  {
   "cell_type": "code",
   "execution_count": 23,
   "metadata": {},
   "outputs": [
    {
     "name": "stdout",
     "output_type": "stream",
     "text": [
      "enter first number 12\n",
      "enter second number 32\n",
      "Numbers before swapping a : 12 and b : 32\n",
      "Numbers after swapping a and b : (32, 12)\n"
     ]
    }
   ],
   "source": [
    "def swap(a,b):\n",
    "    a=a+b\n",
    "    b=a-b\n",
    "    a=a-b\n",
    "    return a,b\n",
    "\n",
    "a=int(input('enter first number '))\n",
    "b=int(input('enter second number '))\n",
    "print(\"Numbers before swapping a : {} and b : {}\".format(a,b))\n",
    "print(\"Numbers after swapping a and b : {}\".format(swap(a,b)))"
   ]
  },
  {
   "cell_type": "code",
   "execution_count": null,
   "metadata": {},
   "outputs": [],
   "source": []
  }
 ],
 "metadata": {
  "kernelspec": {
   "display_name": "Python 3",
   "language": "python",
   "name": "python3"
  },
  "language_info": {
   "codemirror_mode": {
    "name": "ipython",
    "version": 3
   },
   "file_extension": ".py",
   "mimetype": "text/x-python",
   "name": "python",
   "nbconvert_exporter": "python",
   "pygments_lexer": "ipython3",
   "version": "3.7.4"
  }
 },
 "nbformat": 4,
 "nbformat_minor": 2
}
