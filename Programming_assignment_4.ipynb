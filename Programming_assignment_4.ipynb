{
 "cells": [
  {
   "cell_type": "markdown",
   "metadata": {},
   "source": [
    "#### 1.\tWrite a Python Program to Find the Factorial of a Number?"
   ]
  },
  {
   "cell_type": "code",
   "execution_count": 3,
   "metadata": {},
   "outputs": [],
   "source": [
    "def factorial(num):\n",
    "    j=1\n",
    "    for i in range(1,num+1):\n",
    "        j=j*i\n",
    "    return j"
   ]
  },
  {
   "cell_type": "code",
   "execution_count": 5,
   "metadata": {},
   "outputs": [
    {
     "name": "stdout",
     "output_type": "stream",
     "text": [
      "enter number for foctorial 9\n",
      "9 factorial is 362880\n"
     ]
    }
   ],
   "source": [
    "num=int(input('enter positive integer for factorial '))\n",
    "print(num,'factorial is',factorial(num))"
   ]
  },
  {
   "cell_type": "markdown",
   "metadata": {},
   "source": [
    "#### 2.\tWrite a Python Program to Display the multiplication Table?\n"
   ]
  },
  {
   "cell_type": "code",
   "execution_count": 7,
   "metadata": {},
   "outputs": [],
   "source": [
    "def display_mul(num):\n",
    "    for i in range(1,11):\n",
    "        j=num*i\n",
    "        print(num,'*',i,'=',j)"
   ]
  },
  {
   "cell_type": "code",
   "execution_count": 8,
   "metadata": {},
   "outputs": [
    {
     "name": "stdout",
     "output_type": "stream",
     "text": [
      "8 * 1 = 8\n",
      "8 * 2 = 16\n",
      "8 * 3 = 24\n",
      "8 * 4 = 32\n",
      "8 * 5 = 40\n",
      "8 * 6 = 48\n",
      "8 * 7 = 56\n",
      "8 * 8 = 64\n",
      "8 * 9 = 72\n",
      "8 * 10 = 80\n"
     ]
    }
   ],
   "source": [
    "display_mul(8)"
   ]
  },
  {
   "cell_type": "markdown",
   "metadata": {},
   "source": [
    "#### 3.\tWrite a Python Program to Print the Fibonacci sequence?\n"
   ]
  },
  {
   "cell_type": "code",
   "execution_count": 3,
   "metadata": {},
   "outputs": [],
   "source": [
    "def fibonacci_seq(num):\n",
    "    a=1\n",
    "    b=0\n",
    "    count=0\n",
    "    while count<num:\n",
    "        print(b,end=',')\n",
    "        c=a+b\n",
    "        b=a\n",
    "        a=c\n",
    "        count=count+1"
   ]
  },
  {
   "cell_type": "code",
   "execution_count": 4,
   "metadata": {},
   "outputs": [
    {
     "name": "stdout",
     "output_type": "stream",
     "text": [
      "Enter an positive integer 8\n",
      "0,1,1,2,3,5,8,13,"
     ]
    }
   ],
   "source": [
    "num=int(input('Enter a positive integer '))\n",
    "fibonacci_seq(num)"
   ]
  },
  {
   "cell_type": "markdown",
   "metadata": {},
   "source": [
    "#### 4.\tWrite a Python Program to Check Armstrong Number?\n"
   ]
  },
  {
   "cell_type": "code",
   "execution_count": 15,
   "metadata": {},
   "outputs": [],
   "source": [
    "def armstrong_num(num):\n",
    "    temp=num\n",
    "    sum=0\n",
    "    pow=len(str(num))\n",
    "    while temp>0:\n",
    "        digit=temp%10\n",
    "        sum+=digit**pow\n",
    "        temp//=10\n",
    "    \n",
    "    if num==sum:\n",
    "        return 'is armstrong number'\n",
    "    else:\n",
    "        return 'is not armstrong number'"
   ]
  },
  {
   "cell_type": "code",
   "execution_count": 30,
   "metadata": {},
   "outputs": [
    {
     "name": "stdout",
     "output_type": "stream",
     "text": [
      "Enter a number 1634\n",
      "1634 is armstrong number\n"
     ]
    }
   ],
   "source": [
    "num=int(input('Enter a number '))\n",
    "print(num,armstrong_num(num))"
   ]
  },
  {
   "cell_type": "markdown",
   "metadata": {},
   "source": [
    "#### 5.\tWrite a Python Program to Find Armstrong Number in an Interval?\n"
   ]
  },
  {
   "cell_type": "code",
   "execution_count": 68,
   "metadata": {},
   "outputs": [],
   "source": [
    "def armstrong_intr(lower,upper):\n",
    "    arms=[]\n",
    "    for i in range(lower,upper+1):\n",
    "        temp=i\n",
    "        sum=0\n",
    "        pow=len(str(i))\n",
    "        while temp>0:\n",
    "            digit=temp%10\n",
    "            sum+=digit**pow\n",
    "            temp//=10\n",
    "        if i==sum:\n",
    "            arms.append(i)\n",
    "    return arms\n"
   ]
  },
  {
   "cell_type": "code",
   "execution_count": 70,
   "metadata": {},
   "outputs": [
    {
     "name": "stdout",
     "output_type": "stream",
     "text": [
      "Enter a integer for lower interval 10\n",
      "Enter a integer for upper interval 2000\n",
      "armstrong numbers are :  [153, 370, 371, 407, 1634]\n"
     ]
    }
   ],
   "source": [
    "lower = int(input('Enter a integer for lower interval '))\n",
    "upper = int(input('Enter a integer for upper interval '))\n",
    "print('armstrong numbers are : ',armstrong_intr(lower,upper))"
   ]
  },
  {
   "cell_type": "markdown",
   "metadata": {},
   "source": [
    "#### 6.\tWrite a Python Program to Find the Sum of Natural Numbers?\n"
   ]
  },
  {
   "cell_type": "code",
   "execution_count": 71,
   "metadata": {},
   "outputs": [],
   "source": [
    "def sum_natural(num):\n",
    "    num = 16\n",
    "\n",
    "    if num < 0:\n",
    "        print(\"Enter a positive number\")\n",
    "    else:\n",
    "        sum = 0\n",
    "        while(num > 0):\n",
    "            sum += num\n",
    "            num -= 1\n",
    "        print(\"The sum is\", sum)"
   ]
  },
  {
   "cell_type": "code",
   "execution_count": 72,
   "metadata": {},
   "outputs": [
    {
     "name": "stdout",
     "output_type": "stream",
     "text": [
      "The sum is 136\n"
     ]
    }
   ],
   "source": [
    "sum_natural(20)"
   ]
  },
  {
   "cell_type": "code",
   "execution_count": null,
   "metadata": {},
   "outputs": [],
   "source": []
  }
 ],
 "metadata": {
  "kernelspec": {
   "display_name": "Python 3",
   "language": "python",
   "name": "python3"
  },
  "language_info": {
   "codemirror_mode": {
    "name": "ipython",
    "version": 3
   },
   "file_extension": ".py",
   "mimetype": "text/x-python",
   "name": "python",
   "nbconvert_exporter": "python",
   "pygments_lexer": "ipython3",
   "version": "3.7.4"
  }
 },
 "nbformat": 4,
 "nbformat_minor": 2
}
