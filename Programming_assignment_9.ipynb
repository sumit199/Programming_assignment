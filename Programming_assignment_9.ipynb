{
 "cells": [
  {
   "cell_type": "markdown",
   "metadata": {},
   "source": [
    "#### 1.\tWrite a Python program to check if the given number is a Disarium Number?\n"
   ]
  },
  {
   "cell_type": "code",
   "execution_count": 17,
   "metadata": {},
   "outputs": [],
   "source": [
    "def disarium_num(num):\n",
    "    n=len(str(num))\n",
    "    p=n\n",
    "    sum=0\n",
    "    temp_num=num\n",
    "    for i in range(n):\n",
    "        temp=temp_num%10\n",
    "        sum+=temp**p\n",
    "        p=p-1\n",
    "        temp_num=int(temp_num/10)\n",
    "    if sum==num:\n",
    "        return 'is Disarium Number'\n",
    "    else:\n",
    "        return 'is not Disarium Number'"
   ]
  },
  {
   "cell_type": "code",
   "execution_count": 18,
   "metadata": {},
   "outputs": [
    {
     "name": "stdout",
     "output_type": "stream",
     "text": [
      "Enter a positive integer 135\n",
      "135 is Disarium Number\n"
     ]
    }
   ],
   "source": [
    "num=int(input('Enter a positive integer '))\n",
    "print(num,disarium_num(num))"
   ]
  },
  {
   "cell_type": "markdown",
   "metadata": {},
   "source": [
    "#### 2.\tWrite a Python program to print all disarium numbers between 1 to 100?\n"
   ]
  },
  {
   "cell_type": "code",
   "execution_count": 20,
   "metadata": {},
   "outputs": [],
   "source": [
    "def disarium_num_1_to_100():\n",
    "    for i in range(1,100):\n",
    "        if str(disarium_num(i))=='is Disarium Number':\n",
    "            print(i,end=', ')\n",
    "    "
   ]
  },
  {
   "cell_type": "code",
   "execution_count": 21,
   "metadata": {},
   "outputs": [
    {
     "name": "stdout",
     "output_type": "stream",
     "text": [
      "1, 2, 3, 4, 5, 6, 7, 8, 9, 89, "
     ]
    }
   ],
   "source": [
    "disarium_num_1_to_100()"
   ]
  },
  {
   "cell_type": "markdown",
   "metadata": {},
   "source": [
    "#### 3.\tWrite a Python program to check if the given number is Happy Number?\n"
   ]
  },
  {
   "cell_type": "code",
   "execution_count": 31,
   "metadata": {},
   "outputs": [],
   "source": [
    "class ishappynum():\n",
    "    def squaresum(self,num):\n",
    "        sum=0\n",
    "        n=len(str(num))\n",
    "        while n>0:\n",
    "            temp=num%10\n",
    "            sum+=temp**2\n",
    "            num=int(num/10)\n",
    "            n=n-1\n",
    "        return sum\n",
    "\n",
    "    def happynumber(self,num):\n",
    "        sq1=num\n",
    "        sq2=num\n",
    "        while(True):\n",
    "            sq1=self.squaresum(sq1)\n",
    "            sq2=self.squaresum(self.squaresum(sq2))\n",
    "\n",
    "            if sq1!=sq2:\n",
    "                continue\n",
    "            else:\n",
    "                break\n",
    "        if sq1==1:\n",
    "            return True\n",
    "        else:\n",
    "            return False\n",
    "\n",
    "    "
   ]
  },
  {
   "cell_type": "code",
   "execution_count": 32,
   "metadata": {},
   "outputs": [
    {
     "name": "stdout",
     "output_type": "stream",
     "text": [
      "Enter a positive integer 19\n",
      "19  is happy numbers\n"
     ]
    }
   ],
   "source": [
    "num=int(input('Enter a positive integer '))\n",
    "ob=ishappynum()\n",
    "if ob.happynumber(num)==True:\n",
    "    print(num,' is happy numbers')\n",
    "else:\n",
    "    print(num,' is not happy number')"
   ]
  },
  {
   "cell_type": "markdown",
   "metadata": {},
   "source": [
    "#### 4.\tWrite a Python program to print all happy numbers between 1 and 100?\n"
   ]
  },
  {
   "cell_type": "code",
   "execution_count": 34,
   "metadata": {},
   "outputs": [
    {
     "name": "stdout",
     "output_type": "stream",
     "text": [
      "Happy Numbers between 1 to 100 are :\n",
      "1, 7, 10, 13, 19, 23, 28, 31, 32, 44, 49, 68, 70, 79, 82, 86, 91, 94, 97, "
     ]
    }
   ],
   "source": [
    "ob=ishappynum()\n",
    "print('Happy Numbers between 1 to 100 are :')\n",
    "for i in range(1,100):\n",
    "    if ob.happynumber(i)==True:\n",
    "        print(i,end=', ')"
   ]
  },
  {
   "cell_type": "markdown",
   "metadata": {},
   "source": [
    "#### 5.\tWrite a Python program to determine whether the given number is a Harshad Number?\n"
   ]
  },
  {
   "cell_type": "code",
   "execution_count": 35,
   "metadata": {},
   "outputs": [],
   "source": [
    "def harshad_num(num):\n",
    "    sum=0\n",
    "    temp_num=num\n",
    "    n=len(str(temp_num))\n",
    "    while n>0:\n",
    "        temp=temp_num%10\n",
    "        sum+=temp\n",
    "        num=int(temp_num/10)\n",
    "        n=n-1\n",
    "    if num%sum==0:\n",
    "        return True\n",
    "    else:\n",
    "        return False"
   ]
  },
  {
   "cell_type": "code",
   "execution_count": 40,
   "metadata": {},
   "outputs": [
    {
     "name": "stdout",
     "output_type": "stream",
     "text": [
      "Enter a positive integer 155\n",
      "155  is harsad number\n"
     ]
    }
   ],
   "source": [
    "num=int(input('Enter a positive integer '))\n",
    "if harshad_num(num)==True:\n",
    "    print(num,' is harsad number')\n",
    "else:\n",
    "    print(num,' is not harsad number')"
   ]
  },
  {
   "cell_type": "markdown",
   "metadata": {},
   "source": [
    "#### 6.\tWrite a Python program to print all pronic numbers between 1 and 100?\n"
   ]
  },
  {
   "cell_type": "code",
   "execution_count": 56,
   "metadata": {},
   "outputs": [],
   "source": [
    "def pronic_num():    \n",
    "    for i in range(0,100):\n",
    "        flag=0\n",
    "        for j in range(i):\n",
    "            if j * (j + 1) == i:\n",
    "                flag = 1\n",
    "                break\n",
    "        if flag==1:\n",
    "            print(i)        \n",
    "            "
   ]
  },
  {
   "cell_type": "code",
   "execution_count": 57,
   "metadata": {},
   "outputs": [
    {
     "name": "stdout",
     "output_type": "stream",
     "text": [
      "2\n",
      "6\n",
      "12\n",
      "20\n",
      "30\n",
      "42\n",
      "56\n",
      "72\n",
      "90\n"
     ]
    }
   ],
   "source": [
    "pronic_num()"
   ]
  },
  {
   "cell_type": "code",
   "execution_count": null,
   "metadata": {},
   "outputs": [],
   "source": []
  }
 ],
 "metadata": {
  "kernelspec": {
   "display_name": "Python 3",
   "language": "python",
   "name": "python3"
  },
  "language_info": {
   "codemirror_mode": {
    "name": "ipython",
    "version": 3
   },
   "file_extension": ".py",
   "mimetype": "text/x-python",
   "name": "python",
   "nbconvert_exporter": "python",
   "pygments_lexer": "ipython3",
   "version": "3.7.4"
  }
 },
 "nbformat": 4,
 "nbformat_minor": 2
}
