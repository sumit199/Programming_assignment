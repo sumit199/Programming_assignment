{
 "cells": [
  {
   "cell_type": "markdown",
   "metadata": {},
   "source": [
    "#### 1.\tWrite a Python Program to find sum of array?\n"
   ]
  },
  {
   "cell_type": "code",
   "execution_count": 6,
   "metadata": {},
   "outputs": [],
   "source": [
    "def sum_array(arr):\n",
    "    return sum(arr)"
   ]
  },
  {
   "cell_type": "code",
   "execution_count": 11,
   "metadata": {},
   "outputs": [
    {
     "name": "stdout",
     "output_type": "stream",
     "text": [
      "sum of array : 33\n"
     ]
    }
   ],
   "source": [
    "arr=[5,7,8,9,4]\n",
    "print('sum of array :',sum_array(arr))"
   ]
  },
  {
   "cell_type": "markdown",
   "metadata": {},
   "source": [
    "#### 2.\tWrite a Python Program to find largest element in an array?\n"
   ]
  },
  {
   "cell_type": "code",
   "execution_count": 12,
   "metadata": {},
   "outputs": [],
   "source": [
    "def largest_num(arr):\n",
    "    return max(arr)"
   ]
  },
  {
   "cell_type": "code",
   "execution_count": 14,
   "metadata": {},
   "outputs": [
    {
     "name": "stdout",
     "output_type": "stream",
     "text": [
      "Largest element in array : 8\n"
     ]
    }
   ],
   "source": [
    "arr=[5,7,8,-9,4]\n",
    "print('Largest element in array :',largest_num(arr))"
   ]
  },
  {
   "cell_type": "markdown",
   "metadata": {},
   "source": [
    "#### 3.\tWrite a Python Program for array rotation?\n"
   ]
  },
  {
   "cell_type": "code",
   "execution_count": 31,
   "metadata": {},
   "outputs": [],
   "source": [
    "def rotate_arr(arr):\n",
    "    n=len(arr)\n",
    "    rot_arr=[]\n",
    "    for i in range(n-1,0,-1):\n",
    "        rot_arr.append(arr[i])    \n",
    "        \n",
    "    return rot_arr"
   ]
  },
  {
   "cell_type": "code",
   "execution_count": 57,
   "metadata": {},
   "outputs": [
    {
     "name": "stdout",
     "output_type": "stream",
     "text": [
      "Array after rotation : [4, 9, 8, 7]\n"
     ]
    }
   ],
   "source": [
    "arr=[5,7,8,9,4]\n",
    "print('Array after rotation :',rotate_arr(arr))"
   ]
  },
  {
   "cell_type": "code",
   "execution_count": 64,
   "metadata": {},
   "outputs": [],
   "source": [
    "def rotate_arr(arr):\n",
    "    n=len(arr)-1\n",
    "    return arr[n::-1]"
   ]
  },
  {
   "cell_type": "code",
   "execution_count": 65,
   "metadata": {},
   "outputs": [
    {
     "name": "stdout",
     "output_type": "stream",
     "text": [
      "Array after rotation : [4, 9, 8, 7, 5]\n"
     ]
    }
   ],
   "source": [
    "arr=[5,7,8,9,4]\n",
    "print('Array after rotation :',rotate_arr(arr))"
   ]
  },
  {
   "cell_type": "markdown",
   "metadata": {},
   "source": [
    "#### 4.\tWrite a Python Program to Split the array and add the first part to the end?\n"
   ]
  },
  {
   "cell_type": "code",
   "execution_count": 44,
   "metadata": {},
   "outputs": [],
   "source": [
    "def split_arr(arr,position):  #position to split\n",
    "    n=len(arr)\n",
    "    k=position\n",
    "    for i in range(0,k):\n",
    "        x=arr[0]\n",
    "        for j in range(0,n-1):\n",
    "            arr[j] = arr[j + 1]\n",
    "        \n",
    "        arr[n-1] = x\n",
    "    return arr"
   ]
  },
  {
   "cell_type": "code",
   "execution_count": 45,
   "metadata": {},
   "outputs": [
    {
     "name": "stdout",
     "output_type": "stream",
     "text": [
      "[10, 9, 4, 5, 7, 8]\n"
     ]
    }
   ],
   "source": [
    "arr=[5,7,8,10,9,4]\n",
    "position=3\n",
    "print(split_arr(arr,position))"
   ]
  },
  {
   "cell_type": "markdown",
   "metadata": {},
   "source": [
    "#### 5.\tWrite a Python Program to check if given array is Monotonic?\n"
   ]
  },
  {
   "cell_type": "code",
   "execution_count": 49,
   "metadata": {},
   "outputs": [],
   "source": [
    "def monotonic(arr):\n",
    "    x = []\n",
    "    y = []\n",
    "    x.extend(arr)\n",
    "    y.extend(arr)\n",
    "    x.sort()\n",
    "    y.sort(reverse=True)\n",
    "    if(x == arr or y == arr):\n",
    "        return 'Monotonic'\n",
    "    return 'Not Monotonic'"
   ]
  },
  {
   "cell_type": "code",
   "execution_count": 50,
   "metadata": {},
   "outputs": [
    {
     "name": "stdout",
     "output_type": "stream",
     "text": [
      "Monotonic\n"
     ]
    }
   ],
   "source": [
    "arr=[4,6,8,9,10]\n",
    "print(monotonic(arr))"
   ]
  },
  {
   "cell_type": "code",
   "execution_count": 51,
   "metadata": {},
   "outputs": [
    {
     "name": "stdout",
     "output_type": "stream",
     "text": [
      "Not Monotonic\n"
     ]
    }
   ],
   "source": [
    "arr=[8,5,9,23,12]\n",
    "print(monotonic(arr))"
   ]
  },
  {
   "cell_type": "code",
   "execution_count": null,
   "metadata": {},
   "outputs": [],
   "source": []
  }
 ],
 "metadata": {
  "kernelspec": {
   "display_name": "Python 3",
   "language": "python",
   "name": "python3"
  },
  "language_info": {
   "codemirror_mode": {
    "name": "ipython",
    "version": 3
   },
   "file_extension": ".py",
   "mimetype": "text/x-python",
   "name": "python",
   "nbconvert_exporter": "python",
   "pygments_lexer": "ipython3",
   "version": "3.7.4"
  }
 },
 "nbformat": 4,
 "nbformat_minor": 2
}
