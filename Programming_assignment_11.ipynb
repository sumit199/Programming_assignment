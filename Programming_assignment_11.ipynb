{
 "cells": [
  {
   "cell_type": "markdown",
   "metadata": {},
   "source": [
    "#### 1.\tWrite a Python program to find words which are greater than given length k?\n"
   ]
  },
  {
   "cell_type": "code",
   "execution_count": 1,
   "metadata": {},
   "outputs": [],
   "source": [
    "def words_greater(words,k):\n",
    "    word_greater = []\n",
    "    for i in words:\n",
    "        if len(i)>k:\n",
    "            word_greater.append(i)\n",
    "    return word_greater"
   ]
  },
  {
   "cell_type": "code",
   "execution_count": 6,
   "metadata": {},
   "outputs": [
    {
     "name": "stdout",
     "output_type": "stream",
     "text": [
      "Enter length of words you want : 5\n",
      "words are :  ['program', 'removing', 'checkpoint', 'python']\n"
     ]
    }
   ],
   "source": [
    "word_list = ['hello','program','removing','checkpoint','python','hi','one']\n",
    "k=int(input('Enter length of words you want : '))\n",
    "print('words are : ',words_greater(word_list,k))"
   ]
  },
  {
   "cell_type": "markdown",
   "metadata": {},
   "source": [
    "#### 2.\tWrite a Python program for removing i-th character from a string?\n"
   ]
  },
  {
   "cell_type": "code",
   "execution_count": 18,
   "metadata": {},
   "outputs": [],
   "source": [
    "def remove_char(string,pos):\n",
    "    new_str=\"\"\n",
    "    for i in range(len(string)):\n",
    "        if i != pos:\n",
    "            new_str=new_str + string[i]\n",
    "    return new_str"
   ]
  },
  {
   "cell_type": "code",
   "execution_count": 20,
   "metadata": {},
   "outputs": [
    {
     "name": "stdout",
     "output_type": "stream",
     "text": [
      "Enter position of char you want to remove : 7\n",
      "inuron_ata_science\n"
     ]
    }
   ],
   "source": [
    "string=\"inuron_data_science\"\n",
    "pos=int(input('Enter position of char you want to remove : '))\n",
    "print(remove_char(string,pos))"
   ]
  },
  {
   "cell_type": "markdown",
   "metadata": {},
   "source": [
    "#### 3.\tWrite a Python program to split and join a string?\n"
   ]
  },
  {
   "cell_type": "code",
   "execution_count": 36,
   "metadata": {},
   "outputs": [],
   "source": [
    "def string_split(string,sep):\n",
    "    ss=string.split(sep)\n",
    "    return ss"
   ]
  },
  {
   "cell_type": "code",
   "execution_count": 38,
   "metadata": {},
   "outputs": [
    {
     "name": "stdout",
     "output_type": "stream",
     "text": [
      "String after split : ['inuron', 'data', 'science']\n"
     ]
    }
   ],
   "source": [
    "string=\"inuron_data_science\"\n",
    "sep='_'\n",
    "print('String after split :',string_split(string,sep))"
   ]
  },
  {
   "cell_type": "markdown",
   "metadata": {},
   "source": [
    "#### 4.\tWrite a Python to check if a given string is binary string or not?\n"
   ]
  },
  {
   "cell_type": "code",
   "execution_count": 1,
   "metadata": {},
   "outputs": [],
   "source": [
    "def  check_binary(bi_str):\n",
    "        for i in bi_str:\n",
    "            if i != '0' and i!='1':\n",
    "                return 'String is not binary'\n",
    "        return 'String is binary'"
   ]
  },
  {
   "cell_type": "code",
   "execution_count": 5,
   "metadata": {},
   "outputs": [
    {
     "name": "stdout",
     "output_type": "stream",
     "text": [
      "Enter string to binary or not :10110k0101\n",
      "String is not binary\n"
     ]
    }
   ],
   "source": [
    "s=input('Enter string to binary or not :')\n",
    "print(check_binary(s))"
   ]
  },
  {
   "cell_type": "markdown",
   "metadata": {},
   "source": [
    "#### 5.\tWrite a Python program to find uncommon words from two Strings?\n",
    "\n"
   ]
  },
  {
   "cell_type": "code",
   "execution_count": 6,
   "metadata": {},
   "outputs": [],
   "source": [
    "def compare_string(str1,str2):\n",
    "    str1=str1.split()\n",
    "    str2=str2.split()\n",
    "    str3 =[]\n",
    "    \n",
    "    for i in str1:\n",
    "        if i not in str2:\n",
    "            str3.append(i)\n",
    "    for j in str2:\n",
    "        if j not in str1:\n",
    "            str3.append(j)\n",
    "    \n",
    "    return str3"
   ]
  },
  {
   "cell_type": "code",
   "execution_count": 8,
   "metadata": {},
   "outputs": [
    {
     "name": "stdout",
     "output_type": "stream",
     "text": [
      "Enter first string :ineuron full stack\n",
      "Enter second string :ineuron data science\n",
      "Uncommon words : ['full', 'stack', 'data', 'science']\n"
     ]
    }
   ],
   "source": [
    "s1=input('Enter first string :')\n",
    "s2=input('Enter second string :')\n",
    "print('Uncommon words :',compare_string(s1,s2))"
   ]
  },
  {
   "cell_type": "markdown",
   "metadata": {},
   "source": [
    "#### 6.\tWrite a Python to find all duplicate characters in string?\n"
   ]
  },
  {
   "cell_type": "code",
   "execution_count": 18,
   "metadata": {},
   "outputs": [],
   "source": [
    "def check_duplicate(str1):\n",
    "    dupl=[]\n",
    "    for i in str1:\n",
    "        if str1.count(i)>1 and i not in dupl:\n",
    "            dupl.append(i)\n",
    "    return dupl"
   ]
  },
  {
   "cell_type": "code",
   "execution_count": 20,
   "metadata": {},
   "outputs": [
    {
     "name": "stdout",
     "output_type": "stream",
     "text": [
      "dupicate characters in string : ['i', 'n', '_', 'a', 'c', 'e']\n"
     ]
    }
   ],
   "source": [
    "string=\"inuron_data_science\"\n",
    "print(\"dupicate characters in string :\",check_duplicate(string))"
   ]
  },
  {
   "cell_type": "markdown",
   "metadata": {},
   "source": [
    "#### 7.\tWrite a Python Program to check if a string contains any special character?\n"
   ]
  },
  {
   "cell_type": "code",
   "execution_count": 22,
   "metadata": {},
   "outputs": [],
   "source": [
    "import re\n",
    "def check_special_char(str1):\n",
    "    regex=re.compile(\"[@_!#$%^&*()<>?/\\|}{~:]\")\n",
    "    if(regex.search(str1)==None):\n",
    "        return \"string doesn't contain any special character\"\n",
    "    else :\n",
    "        return \"string contains special character\""
   ]
  },
  {
   "cell_type": "code",
   "execution_count": 23,
   "metadata": {},
   "outputs": [
    {
     "name": "stdout",
     "output_type": "stream",
     "text": [
      "string contains special character\n"
     ]
    }
   ],
   "source": [
    "string=\"inuron@data#science\"\n",
    "print(check_special_char(string))"
   ]
  },
  {
   "cell_type": "code",
   "execution_count": null,
   "metadata": {},
   "outputs": [],
   "source": []
  }
 ],
 "metadata": {
  "kernelspec": {
   "display_name": "Python 3 (ipykernel)",
   "language": "python",
   "name": "python3"
  },
  "language_info": {
   "codemirror_mode": {
    "name": "ipython",
    "version": 3
   },
   "file_extension": ".py",
   "mimetype": "text/x-python",
   "name": "python",
   "nbconvert_exporter": "python",
   "pygments_lexer": "ipython3",
   "version": "3.7.4"
  }
 },
 "nbformat": 4,
 "nbformat_minor": 2
}
