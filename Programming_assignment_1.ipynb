{
 "cells": [
  {
   "cell_type": "markdown",
   "metadata": {},
   "source": [
    "#### 1.\tWrite a Python program to print \"Hello Python\"?"
   ]
  },
  {
   "cell_type": "code",
   "execution_count": 1,
   "metadata": {},
   "outputs": [
    {
     "name": "stdout",
     "output_type": "stream",
     "text": [
      "Hello Python\n"
     ]
    },
    {
     "data": {
      "text/plain": [
       "<__main__.hello at 0x1930aed1b88>"
      ]
     },
     "execution_count": 1,
     "metadata": {},
     "output_type": "execute_result"
    }
   ],
   "source": [
    "class hello:\n",
    "    print('Hello Python')\n",
    "\n",
    "hello()"
   ]
  },
  {
   "cell_type": "markdown",
   "metadata": {},
   "source": [
    "#### 2.\tWrite a Python program to do arithmetical operations addition and division.?"
   ]
  },
  {
   "cell_type": "code",
   "execution_count": 2,
   "metadata": {},
   "outputs": [],
   "source": [
    "class airthmetic_op:\n",
    "    \n",
    "    def addition(self,val1 , val2):\n",
    "        res=val1+val2\n",
    "        return res\n",
    "    \n",
    "    def divsion(self,val1 , val2):\n",
    "        res = val1/val2\n",
    "        return res\n"
   ]
  },
  {
   "cell_type": "code",
   "execution_count": 3,
   "metadata": {},
   "outputs": [
    {
     "name": "stdout",
     "output_type": "stream",
     "text": [
      "enter first number for addition5\n",
      "enter second number for addition6\n",
      "11\n"
     ]
    }
   ],
   "source": [
    "add=airthmetic_op()\n",
    "val1=int(input(\"enter first number for addition \"))\n",
    "val2=int(input(\"enter second number for addition \"))\n",
    "print(add.addition(val1,val2))"
   ]
  },
  {
   "cell_type": "code",
   "execution_count": 7,
   "metadata": {},
   "outputs": [
    {
     "name": "stdout",
     "output_type": "stream",
     "text": [
      "enter dividend 5\n",
      "enter divisor 6\n",
      "0.8333333333333334\n"
     ]
    }
   ],
   "source": [
    "div=airthmetic_op()\n",
    "val1=int(input(\"enter dividend \"))\n",
    "val2=int(input(\"enter divisor \"))\n",
    "print(div.divsion(val1,val2))"
   ]
  },
  {
   "cell_type": "markdown",
   "metadata": {},
   "source": [
    "#### 3.\tWrite a Python program to find the area of a triangle?"
   ]
  },
  {
   "cell_type": "code",
   "execution_count": 33,
   "metadata": {},
   "outputs": [
    {
     "name": "stdout",
     "output_type": "stream",
     "text": [
      "enter first side 5\n",
      "enter second side 6\n",
      "enter third side 7\n",
      "The area of the triangle is 14.696938456699069\n"
     ]
    }
   ],
   "source": [
    "class area_triangle:\n",
    "     \n",
    "    def __init__(self,a,b,c):\n",
    "        self.a=a\n",
    "        self.b=b\n",
    "        self.c=c\n",
    "    \n",
    "    def get_area(self):\n",
    "        s = (self.a + self.b + self.c) / 2\n",
    "        return (s*(s-self.a)*(s-self.b)*(s-self.c)) ** 0.5\n",
    "    \n",
    "\n",
    "a=float(input(\"enter first side \"))\n",
    "b=float(input(\"enter second side \"))\n",
    "c=float(input(\"enter third side \"))\n",
    "area=area_triangle(a,b,c)\n",
    "print('The area of the triangle is {}'.format(area.get_area()))"
   ]
  },
  {
   "cell_type": "markdown",
   "metadata": {},
   "source": [
    "#### 4.\tWrite a Python program to swap two variables?"
   ]
  },
  {
   "cell_type": "code",
   "execution_count": 3,
   "metadata": {},
   "outputs": [
    {
     "name": "stdout",
     "output_type": "stream",
     "text": [
      "enter first number 9\n",
      "enter second number 8\n",
      "Numbers before swapping a : 9 and b : 8\n",
      "Numbers after swapping a and b : (8, 9)\n"
     ]
    }
   ],
   "source": [
    "def swap(a,b):\n",
    "    a=a+b\n",
    "    b=a-b\n",
    "    a=a-b\n",
    "    return a,b\n",
    "\n",
    "a=int(input('enter first number '))\n",
    "b=int(input('enter second number '))\n",
    "print(\"Numbers before swapping a : {} and b : {}\".format(a,b))\n",
    "print(\"Numbers after swapping a and b : {}\".format(swap(a,b)))"
   ]
  },
  {
   "cell_type": "markdown",
   "metadata": {},
   "source": [
    "#### 5.\tWrite a Python program to generate a random number?"
   ]
  },
  {
   "cell_type": "code",
   "execution_count": 37,
   "metadata": {},
   "outputs": [
    {
     "name": "stdout",
     "output_type": "stream",
     "text": [
      "enter first number 2\n",
      "enter second number 56\n",
      "enter how many numbers 9\n",
      "[3, 22, 11, 48, 46, 15, 42, 30, 38]\n"
     ]
    }
   ],
   "source": [
    "import random\n",
    "\n",
    "def generate_num(a,b,c):\n",
    "    print(random.sample(range(a,b),c))\n",
    "\n",
    "#define range for random number and how many numbers\n",
    "a=int(input('enter first number '))\n",
    "b=int(input('enter second number '))\n",
    "c=int(input('enter how many numbers '))\n",
    "generate_num(a,b,c)\n",
    "    "
   ]
  },
  {
   "cell_type": "code",
   "execution_count": null,
   "metadata": {},
   "outputs": [],
   "source": []
  },
  {
   "cell_type": "code",
   "execution_count": null,
   "metadata": {},
   "outputs": [],
   "source": []
  }
 ],
 "metadata": {
  "kernelspec": {
   "display_name": "Python 3",
   "language": "python",
   "name": "python3"
  },
  "language_info": {
   "codemirror_mode": {
    "name": "ipython",
    "version": 3
   },
   "file_extension": ".py",
   "mimetype": "text/x-python",
   "name": "python",
   "nbconvert_exporter": "python",
   "pygments_lexer": "ipython3",
   "version": "3.7.4"
  }
 },
 "nbformat": 4,
 "nbformat_minor": 2
}
