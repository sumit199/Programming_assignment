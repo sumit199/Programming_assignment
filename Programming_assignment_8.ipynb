{
 "cells": [
  {
   "cell_type": "markdown",
   "metadata": {},
   "source": [
    "#### 1.\tWrite a Python Program to Add Two Matrices?\n"
   ]
  },
  {
   "cell_type": "code",
   "execution_count": 9,
   "metadata": {},
   "outputs": [],
   "source": [
    "import numpy as np\n",
    "\n",
    "def matrix_add(a,b):\n",
    "    return np.add(a,b)"
   ]
  },
  {
   "cell_type": "code",
   "execution_count": 21,
   "metadata": {
    "scrolled": true
   },
   "outputs": [
    {
     "name": "stdout",
     "output_type": "stream",
     "text": [
      "Enter the number of rows for first matrix: 2\n",
      "Enter the number of columns for first matrix: 2\n",
      "Enter the entries in a single line (separated by space): \n",
      "8 9 6 3\n",
      "Enter the number of rows for second matrix: 2\n",
      "Enter the number of columns for second matrix: 2\n",
      "Enter the entries in a single line (separated by space): \n",
      "12 6 3 8\n",
      "Result of two matrix addition is :  [[96 54]\n",
      " [18 24]]\n"
     ]
    }
   ],
   "source": [
    "r1 = int(input(\"Enter the number of rows for first matrix: \"))\n",
    "c1 = int(input(\"Enter the number of columns for first matrix: \"))\n",
    "print(\"Enter the entries in a single line (separated by space): \")\n",
    "entries = list(map(int, input().split()))\n",
    "a = np.array(entries).reshape(r1, c1)\n",
    "\n",
    "r2 = int(input(\"Enter the number of rows for second matrix: \"))\n",
    "c2 = int(input(\"Enter the number of columns for second matrix: \"))\n",
    "print(\"Enter the entries in a single line (separated by space): \")\n",
    "entries = list(map(int, input().split()))\n",
    "b = np.array(entries).reshape(r2, c2)\n",
    "\n",
    "try:\n",
    "    res=matrix_add(a,b)\n",
    "    print('Result of two matrix addition is : ',res)\n",
    "except Exception as e:\n",
    "    print(e)"
   ]
  },
  {
   "cell_type": "markdown",
   "metadata": {},
   "source": [
    "#### 2.\tWrite a Python Program to Multiply Two Matrices?\n"
   ]
  },
  {
   "cell_type": "code",
   "execution_count": 27,
   "metadata": {},
   "outputs": [],
   "source": [
    "import numpy as np\n",
    "\n",
    "def matrix_mul(a,b):\n",
    "    return np.dot(a,b)"
   ]
  },
  {
   "cell_type": "code",
   "execution_count": 28,
   "metadata": {},
   "outputs": [
    {
     "name": "stdout",
     "output_type": "stream",
     "text": [
      "Enter the number of rows for first matrix: 3\n",
      "Enter the number of columns for first matrix: 2\n",
      "Enter the entries in a single line (separated by space): \n",
      "2 3 4 2 10 9\n",
      "Enter the number of rows for second matrix: 2\n",
      "Enter the number of columns for second matrix: 3\n",
      "Enter the entries in a single line (separated by space): \n",
      "5 8 6 10 2 3\n",
      "Result of two matrix multiplication is :  [[ 40  22  21]\n",
      " [ 40  36  30]\n",
      " [140  98  87]]"
     ]
    }
   ],
   "source": [
    "r1 = int(input(\"Enter the number of rows for first matrix: \"))\n",
    "c1 = int(input(\"Enter the number of columns for first matrix: \"))\n",
    "print(\"Enter the entries in a single line (separated by space): \")\n",
    "entries = list(map(int, input().split()))\n",
    "a = np.array(entries).reshape(r1, c1)\n",
    "\n",
    "r2 = int(input(\"Enter the number of rows for second matrix: \"))\n",
    "c2 = int(input(\"Enter the number of columns for second matrix: \"))\n",
    "print(\"Enter the entries in a single line (separated by space): \")\n",
    "entries = list(map(int, input().split()))\n",
    "b = np.array(entries).reshape(r2, c2)\n",
    "\n",
    "try:\n",
    "    res=matrix_mul(a,b)\n",
    "    print('Result of two matrix multiplication is : ',res, end='')\n",
    "except Exception as e:\n",
    "    print(e)"
   ]
  },
  {
   "cell_type": "markdown",
   "metadata": {},
   "source": [
    "#### 3.\tWrite a Python Program to Transpose a Matrix?\n"
   ]
  },
  {
   "cell_type": "code",
   "execution_count": 29,
   "metadata": {},
   "outputs": [],
   "source": [
    "def trans_matrix(a):\n",
    "    return np.transpose(a)"
   ]
  },
  {
   "cell_type": "code",
   "execution_count": 30,
   "metadata": {},
   "outputs": [
    {
     "name": "stdout",
     "output_type": "stream",
     "text": [
      "Enter the number of rows: 3\n",
      "Enter the number of columns: 2\n",
      "Enter the entries in a single line (separated by space): \n",
      "5 8 6 10 2 3\n"
     ]
    },
    {
     "data": {
      "text/plain": [
       "array([[ 5,  6,  2],\n",
       "       [ 8, 10,  3]])"
      ]
     },
     "execution_count": 30,
     "metadata": {},
     "output_type": "execute_result"
    }
   ],
   "source": [
    "r = int(input(\"Enter the number of rows: \"))\n",
    "c = int(input(\"Enter the number of columns: \"))\n",
    "print(\"Enter the entries in a single line (separated by space): \")\n",
    "entries = list(map(int, input().split()))\n",
    "a = np.array(entries).reshape(r, c)\n",
    "\n",
    "trans_matrix(a)"
   ]
  },
  {
   "cell_type": "markdown",
   "metadata": {},
   "source": [
    "#### 4.\tWrite a Python Program to Sort Words in Alphabetic Order?\n"
   ]
  },
  {
   "cell_type": "code",
   "execution_count": 64,
   "metadata": {},
   "outputs": [],
   "source": [
    "def sort_words(words):\n",
    "    word=words.split()\n",
    "    word.sort()\n",
    "    for i in word:\n",
    "        print(i)"
   ]
  },
  {
   "cell_type": "code",
   "execution_count": 67,
   "metadata": {},
   "outputs": [
    {
     "name": "stdout",
     "output_type": "stream",
     "text": [
      "Sorted words are :\n",
      "Alphabetic\n",
      "Order\n",
      "Program\n",
      "Python\n",
      "Sort\n",
      "Words\n",
      "in\n",
      "to\n"
     ]
    }
   ],
   "source": [
    "s=\"Python Program to Sort Words in Alphabetic Order\"\n",
    "print('Sorted words are :')\n",
    "sort_words(s)"
   ]
  },
  {
   "cell_type": "markdown",
   "metadata": {},
   "source": [
    "#### 5.\tWrite a Python Program to Remove Punctuation From a String?\n"
   ]
  },
  {
   "cell_type": "code",
   "execution_count": 81,
   "metadata": {},
   "outputs": [],
   "source": [
    "import re\n",
    "def remove_punct(s):\n",
    "    res=re.sub(r'[^\\w\\s]','',s)\n",
    "    return res"
   ]
  },
  {
   "cell_type": "code",
   "execution_count": 83,
   "metadata": {},
   "outputs": [
    {
     "data": {
      "text/plain": [
       "'what is 41 doing  here'"
      ]
     },
     "execution_count": 83,
     "metadata": {},
     "output_type": "execute_result"
    }
   ],
   "source": [
    "s='what is!! 41 doing ,; here?'\n",
    "remove_punct(s)"
   ]
  },
  {
   "cell_type": "code",
   "execution_count": null,
   "metadata": {},
   "outputs": [],
   "source": []
  },
  {
   "cell_type": "code",
   "execution_count": null,
   "metadata": {},
   "outputs": [],
   "source": []
  }
 ],
 "metadata": {
  "kernelspec": {
   "display_name": "Python 3",
   "language": "python",
   "name": "python3"
  },
  "language_info": {
   "codemirror_mode": {
    "name": "ipython",
    "version": 3
   },
   "file_extension": ".py",
   "mimetype": "text/x-python",
   "name": "python",
   "nbconvert_exporter": "python",
   "pygments_lexer": "ipython3",
   "version": "3.7.4"
  }
 },
 "nbformat": 4,
 "nbformat_minor": 2
}
