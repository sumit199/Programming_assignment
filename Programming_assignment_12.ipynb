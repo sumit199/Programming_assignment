{
 "cells": [
  {
   "cell_type": "markdown",
   "id": "92e036be",
   "metadata": {},
   "source": [
    "1. Write a Python program to Extract Unique values dictionary values?\n"
   ]
  },
  {
   "cell_type": "code",
   "execution_count": 13,
   "id": "1fc8a47a",
   "metadata": {},
   "outputs": [],
   "source": [
    "def Unique_values(dictn):\n",
    "    unique = []\n",
    "    \n",
    "    for i in dictn.values():\n",
    "        unique.append(i)\n",
    "    unique = list(set(unique))\n",
    "    return unique"
   ]
  },
  {
   "cell_type": "code",
   "execution_count": 16,
   "id": "4b8c69eb",
   "metadata": {},
   "outputs": [
    {
     "name": "stdout",
     "output_type": "stream",
     "text": [
      "unique values in dictionary are:  [1, 2, 3]\n"
     ]
    }
   ],
   "source": [
    "dictn = {'gfg': 1, 'is': 2,'best': 1, 'for': 3,'CS': 2}\n",
    "print(\"unique values in dictionary are: \",Unique_values(dictn))"
   ]
  },
  {
   "cell_type": "markdown",
   "id": "24f7569c",
   "metadata": {},
   "source": [
    "2. Write a Python program to find the sum of all items in a dictionary?\n"
   ]
  },
  {
   "cell_type": "code",
   "execution_count": 17,
   "id": "45333f1d",
   "metadata": {},
   "outputs": [],
   "source": [
    "def dict_item_sum(dictn):\n",
    "    item = []\n",
    "    \n",
    "    for i in dictn.values():\n",
    "        item.append(i)\n",
    "    final_sum = sum(item)\n",
    "    return final_sum"
   ]
  },
  {
   "cell_type": "code",
   "execution_count": 18,
   "id": "c43eeec5",
   "metadata": {},
   "outputs": [
    {
     "name": "stdout",
     "output_type": "stream",
     "text": [
      "Sum : 600\n"
     ]
    }
   ],
   "source": [
    "dictn = {'a': 100, 'b': 200, 'c': 300}\n",
    "print(\"Sum :\", dict_item_sum(dictn))"
   ]
  },
  {
   "cell_type": "markdown",
   "id": "09e5d79d",
   "metadata": {},
   "source": [
    "3. Write a Python program to Merging two Dictionaries?\n"
   ]
  },
  {
   "cell_type": "code",
   "execution_count": 28,
   "id": "0337e51c",
   "metadata": {},
   "outputs": [],
   "source": [
    "def dict_merge(dict1, dict2):\n",
    "    for i in dict2.keys():\n",
    "        dict1[i]=dict2[i]\n",
    "    return dict1"
   ]
  },
  {
   "cell_type": "code",
   "execution_count": 29,
   "id": "0b299db0",
   "metadata": {},
   "outputs": [
    {
     "name": "stdout",
     "output_type": "stream",
     "text": [
      "{'a': 100, 'b': 200, 'c': 300, 'gfg': 1, 'is': 2, 'best': 1, 'for': 3, 'CS': 2}\n"
     ]
    }
   ],
   "source": [
    "dict1 = {'a': 100, 'b': 200, 'c': 300}\n",
    "dict2 = {'gfg': 1, 'is': 2,'best': 1, 'for': 3,'CS': 2}\n",
    "print(dict_merge(dict1, dict2))"
   ]
  },
  {
   "cell_type": "markdown",
   "id": "e349d2f7",
   "metadata": {},
   "source": [
    "4. Write a Python program to convert key-values list to flat dictionary?\n"
   ]
  },
  {
   "cell_type": "code",
   "execution_count": 34,
   "id": "7efa9da3",
   "metadata": {},
   "outputs": [],
   "source": [
    "def conv_to_dict(list1, list2):\n",
    "    dict1 ={}\n",
    "    for i in range(len(list1)):\n",
    "        dict1[list1[i]]=list2[i]\n",
    "    return dict1"
   ]
  },
  {
   "cell_type": "code",
   "execution_count": 36,
   "id": "c9a0f693",
   "metadata": {},
   "outputs": [
    {
     "name": "stdout",
     "output_type": "stream",
     "text": [
      "dictionary from list : {'a': 1, 'b': 2, 'c': 3}\n"
     ]
    }
   ],
   "source": [
    "list1 = [\"a\",\"b\",\"c\"]\n",
    "list2 = [1,2,3]\n",
    "print(\"dictionary from list :\",conv_to_dict(list1,list2))"
   ]
  },
  {
   "cell_type": "markdown",
   "id": "c34d3817",
   "metadata": {},
   "source": [
    "5. Write a Python program to insertion at the beginning in OrderedDict?\n"
   ]
  },
  {
   "cell_type": "code",
   "execution_count": 42,
   "id": "4543128a",
   "metadata": {},
   "outputs": [],
   "source": [
    "from collections import OrderedDict\n",
    "\n",
    "def insert(dict1,dict2):\n",
    "        res = OrderedDict(list(dict2.items())+list(dict1.items()))\n",
    "        return res"
   ]
  },
  {
   "cell_type": "code",
   "execution_count": 43,
   "id": "564c284f",
   "metadata": {},
   "outputs": [
    {
     "name": "stdout",
     "output_type": "stream",
     "text": [
      "OrderedDict([('d', 4), ('a', 1), ('b', 2), ('c', 3)])\n"
     ]
    }
   ],
   "source": [
    "dict1 = OrderedDict([('a', 1), ('b', 2), ('c',3)])\n",
    "dict2 = OrderedDict([('d',4)])\n",
    "print(insert(dict1,dict2))"
   ]
  },
  {
   "cell_type": "markdown",
   "id": "286a0777",
   "metadata": {},
   "source": [
    "6. Write a Python program to check order of character in string using OrderedDict()?\n"
   ]
  },
  {
   "cell_type": "code",
   "execution_count": 55,
   "id": "df44562c",
   "metadata": {},
   "outputs": [],
   "source": [
    "from collections import OrderedDict\n",
    "\n",
    "def check_order(string,pattern):\n",
    "    \n",
    "    dict1 = OrderedDict.fromkeys(string)\n",
    "    ptr = 0\n",
    "    \n",
    "    for key , value in dict1.items():\n",
    "        if key==pattern[ptr]:\n",
    "            ptr=ptr+1\n",
    "        \n",
    "        if ptr==(len(pattern)):\n",
    "            return True\n",
    "        \n",
    "    return False"
   ]
  },
  {
   "cell_type": "code",
   "execution_count": 57,
   "id": "3d33961c",
   "metadata": {},
   "outputs": [
    {
     "name": "stdout",
     "output_type": "stream",
     "text": [
      "False\n"
     ]
    }
   ],
   "source": [
    "string = 'character'\n",
    "pattern = 'ac'\n",
    "print(check_order(string,pattern))"
   ]
  },
  {
   "cell_type": "code",
   "execution_count": 58,
   "id": "d8c09c9e",
   "metadata": {},
   "outputs": [
    {
     "name": "stdout",
     "output_type": "stream",
     "text": [
      "True\n"
     ]
    }
   ],
   "source": [
    "string = 'character'\n",
    "pattern = 'at'\n",
    "print(check_order(string,pattern))"
   ]
  },
  {
   "cell_type": "markdown",
   "id": "96c31b52",
   "metadata": {},
   "source": [
    "7. Write a Python program to sort Python Dictionaries by Key or Value?\n"
   ]
  },
  {
   "cell_type": "code",
   "execution_count": 71,
   "id": "37a3e0ec",
   "metadata": {},
   "outputs": [],
   "source": [
    "def sorted_dict(dict1):\n",
    "    \n",
    "    key = list(dict1.keys())\n",
    "    key.sort()\n",
    "    sorted_dict1 ={}\n",
    "    \n",
    "    for i in key:\n",
    "        sorted_dict1[i] = dict1[i]\n",
    "    return sorted_dict1"
   ]
  },
  {
   "cell_type": "code",
   "execution_count": 73,
   "id": "2ed3c4aa",
   "metadata": {},
   "outputs": [
    {
     "name": "stdout",
     "output_type": "stream",
     "text": [
      "sorted dictionary by key : {'best': 1, 'cs': 2, 'for': 3, 'gfg': 1, 'is': 2}\n"
     ]
    }
   ],
   "source": [
    "dictn = {'gfg': 1, 'is': 2,'best': 1, 'for': 3,'cs': 2}\n",
    "print(\"sorted dictionary by key :\",sorted_dict(dictn))\n"
   ]
  },
  {
   "cell_type": "code",
   "execution_count": null,
   "id": "00d898ca",
   "metadata": {},
   "outputs": [],
   "source": []
  }
 ],
 "metadata": {
  "kernelspec": {
   "display_name": "Python 3 (ipykernel)",
   "language": "python",
   "name": "python3"
  },
  "language_info": {
   "codemirror_mode": {
    "name": "ipython",
    "version": 3
   },
   "file_extension": ".py",
   "mimetype": "text/x-python",
   "name": "python",
   "nbconvert_exporter": "python",
   "pygments_lexer": "ipython3",
   "version": "3.7.4"
  }
 },
 "nbformat": 4,
 "nbformat_minor": 5
}
